{
 "cells": [
  {
   "cell_type": "markdown",
   "id": "macro-composition",
   "metadata": {},
   "source": [
    "## Q2\n",
    "\n",
    "Position of Sun is (0,0) and Earth's position is given by $ \\mathbf{r} = (\\rho cos\\theta,\\rho sin\\theta)$.\n",
    "Then $\\dot{\\mathbf{r}}$ in cylindrical polar coordinates is given by;\n",
    "\n",
    "$\\dot{\\textbf{r}} = (\\dot{\\rho}cos\\theta - \\rho sin\\theta , \\dot{\\rho}sin\\theta + \\rho cos\\theta).$\n",
    "\n",
    "Thus, the lagrangian is $$L = T - U = \\frac{1}{2} m \\dot{\\rho}^2 + \\frac{1}{2}m\\rho^2\\dot{\\theta}^2 - U(\\rho,\\theta)$$\n",
    "where $U(\\rho,\\theta) = U(\\rho)$ is independent of $\\theta$, and $$U(\\rho) = G \\frac{Mm}{\\rho^2}.$$\n",
    "\n",
    "Now, the momenta are given by;\n",
    "$$ p_\\rho = \\frac{ \\partial L}{\\partial \\dot{\\rho}}  = m\\dot{\\rho} $$ so,\n",
    "$$ \\dot{\\rho} = \\frac{p_\\rho}{m}. $$\n",
    "\n",
    "And similarly for $\\theta$;\n",
    "\n",
    "$$ p_\\theta = \\frac{\\partial L}{\\partial \\dot{\\theta}} = m \\rho^2 \\dot{\\theta}$$\n",
    "meaning,\n",
    "$$ \\dot{\\theta} = \\frac{p_\\theta}{m\\rho^2}. (1)$$\n",
    "\n",
    "\n",
    "Also, the total energy of our system is conserved and given by;\n",
    "\n",
    "$$E = \\frac{ 1}{ 2 }m (\\dot{\\rho}^2 + \\dot{\\theta}^2\\rho^2 ) - \\frac{GMm}{\\rho}.$$\n",
    "\n",
    "Substituting equation $(1)$ in the equation for energy, and assuming that the equation above describes the energy of a fictitious particle in one dimension, with effective potential\n",
    "\n",
    "$$ U_{eff}(\\rho) = \\frac{p_\\theta^2}{ 2m \\rho^2 } - \\frac{GMm}{\\rho}.$$\n",
    "\n",
    "For a circular orbit, $U_{eff}$ must be minimal; let $ r_{*} $ be the equilibrium so:\n",
    "\n",
    "$$ \\frac{\\partial U_{eff}}{\\partial \\rho}(r_*) = 0  $$ so\n",
    "$$ - \\frac{P_\\theta^2}{mr_{*}^3} + \\frac{GMm}{r_{*}^2}=0 $$\n",
    "or $$ P_\\theta^2 = GMm^2 r_{*}.$$\n",
    "\n",
    "This gives;\n",
    "\n",
    "$$\\dot{\\theta} = \\sqrt{\\frac{GMmr_*}{r_*^4}} = \\sqrt{GMr_*^{-3}}$$\n",
    "\n",
    "and hence,\n",
    "\n",
    "$$v_0 = \\dot{\\theta}R = 1.99\\times 10^{-7} \\times 149.59787 \\times 10^9 = 29.69 km/s . $$\n",
    "\n",
    "\n",
    "where $r_* = R $"
   ]
  },
  {
   "cell_type": "code",
   "execution_count": null,
   "id": "cellular-madagascar",
   "metadata": {},
   "outputs": [],
   "source": []
  },
  {
   "cell_type": "code",
   "execution_count": null,
   "id": "worthy-stretch",
   "metadata": {},
   "outputs": [],
   "source": []
  }
 ],
 "metadata": {
  "kernelspec": {
   "display_name": "Python 3",
   "language": "python",
   "name": "python3"
  },
  "language_info": {
   "codemirror_mode": {
    "name": "ipython",
    "version": 3
   },
   "file_extension": ".py",
   "mimetype": "text/x-python",
   "name": "python",
   "nbconvert_exporter": "python",
   "pygments_lexer": "ipython3",
   "version": "3.7.10"
  }
 },
 "nbformat": 4,
 "nbformat_minor": 5
}
