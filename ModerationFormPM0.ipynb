{
 "cells": [
  {
   "cell_type": "code",
   "execution_count": null,
   "metadata": {
    "deletable": false,
    "editable": false,
    "nbgrader": {
     "cell_type": "code",
     "checksum": "de5dd0af91a3ef81b36d5d4b789caf13",
     "grade": false,
     "grade_id": "defns",
     "locked": true,
     "schema_version": 3,
     "solution": false,
     "task": false
    }
   },
   "outputs": [],
   "source": [
    "#This is a template. We will send out a file to each group.\n",
    "group_id = 'PM0'\n",
    "group = ['Will Driscoll', 'Cameron Duckett', 'Monty McQuade', 'Eva Paziota']\n",
    "#Note: Group members should be ordered alphabetically by surname. Do not change this.\n",
    "\n",
    "#If this group is not correct please email andrew.donald@bristol.ac.uk"
   ]
  },
  {
   "cell_type": "markdown",
   "metadata": {
    "deletable": false,
    "editable": false,
    "nbgrader": {
     "cell_type": "markdown",
     "checksum": "f3ea7633b8498df0dac6126d633290b8",
     "grade": false,
     "grade_id": "instructions",
     "locked": true,
     "schema_version": 3,
     "solution": false,
     "task": false
    }
   },
   "source": [
    "# Peer moderation form\n",
    "\n",
    "## Instructions\n",
    "\n",
    "The purpose of the peer moderation part of the project is to moderate project marks based on each group member's contribution. Please use this form.\n",
    "\n",
    "### Areas to assess\n",
    "\n",
    "For each member of your group, please give a separate rating for the following aspects:\n",
    "- contribution to planning and preparation;\n",
    "- amount of contribution to coding parts of the project;\n",
    "- quality of contribution to coding parts of the project;\n",
    "- amount of contribution to writing the project report;\n",
    "- quality of contribution to writing the project report;\n",
    "- teamwork.\n",
    "\n",
    "### Format of this form\n",
    "\n",
    "For each member of your group, including yourself, you should your ratings using the variables `scores0`, `scores1`, `scores2`, `scores3`. Each of these should be a list of six numbers corresponding to the areas above.\n",
    "\n",
    "\n",
    "### Scale to use\n",
    "#### If this member of the group has not contributed at all:\n",
    "Please enter `scoresN=None` where $N$ is $0,1,2$ or $3$.\n",
    "\n",
    "#### Otherwise:\n",
    "Enter a list of $6$ numbers corresponding to each of the areas above. Please use the following scale:\n",
    "\n",
    "- 0.6 - very poor\n",
    "- 0.8 - poor\n",
    "- 0.9 - below average\n",
    "- 1.0 - average\n",
    "- 1.1 - above average\n",
    "- 1.2 - exceptional.\n",
    "\n",
    "For example, if the first person in your was average in all areas set `scores0=[1,1,1,1,1,1]`.\n",
    "\n",
    "At the end of the form you will be able to see a table to check your responses before you submit them."
   ]
  },
  {
   "cell_type": "code",
   "execution_count": null,
   "metadata": {
    "deletable": false,
    "editable": false,
    "nbgrader": {
     "cell_type": "code",
     "checksum": "b30203e38eb4fa1a179a27f5c94d4997",
     "grade": false,
     "grade_id": "test",
     "locked": true,
     "schema_version": 3,
     "solution": false,
     "task": false
    }
   },
   "outputs": [],
   "source": [
    "# This cell defines a function to verify that the data you enter has the right format.\n",
    "import pandas as pd\n",
    "\n",
    "used_scores=(0.6,0.8,0.9,1.0,1.1,1.2)\n",
    "def check_scores(scores):\n",
    "    if scores==None:\n",
    "        return 'This indictates that this member of the group did not contribute at all.'\n",
    "    if not type(scores)==list:\n",
    "        return 'This should be a list or the keyword None.'\n",
    "    if not len(scores)==6:\n",
    "        return 'Please include a rating for each of the six categories.'\n",
    "    for rating in scores:\n",
    "        if not rating in used_scores:\n",
    "            return 'Please use numbers from '+str(used_scores)+'.'\n",
    "    return 'This data is formatted correctly.'"
   ]
  },
  {
   "cell_type": "markdown",
   "metadata": {
    "deletable": false,
    "editable": false,
    "nbgrader": {
     "cell_type": "markdown",
     "checksum": "10313d6cf49658524d495f5233a45cdd",
     "grade": false,
     "grade_id": "0",
     "locked": true,
     "schema_version": 3,
     "solution": false,
     "task": false
    }
   },
   "source": [
    "Please use `scores0` for the first group member."
   ]
  },
  {
   "cell_type": "code",
   "execution_count": null,
   "metadata": {
    "deletable": false,
    "editable": false,
    "nbgrader": {
     "cell_type": "code",
     "checksum": "89982aff1931bc5004d29dc469d1a5be",
     "grade": false,
     "grade_id": "check0",
     "locked": true,
     "schema_version": 3,
     "solution": false,
     "task": false
    }
   },
   "outputs": [],
   "source": [
    "#You can use this cell to check who that is.\n",
    "group[0]"
   ]
  },
  {
   "cell_type": "code",
   "execution_count": null,
   "metadata": {},
   "outputs": [],
   "source": [
    "scores0=[]\n",
    "check_scores(scores0)"
   ]
  },
  {
   "cell_type": "markdown",
   "metadata": {
    "deletable": false,
    "editable": false,
    "nbgrader": {
     "cell_type": "markdown",
     "checksum": "698a71d1c9d5a782cb66383e9f6228e9",
     "grade": false,
     "grade_id": "1",
     "locked": true,
     "schema_version": 3,
     "solution": false,
     "task": false
    }
   },
   "source": [
    "Please use `scores1` for the second group member."
   ]
  },
  {
   "cell_type": "code",
   "execution_count": null,
   "metadata": {
    "deletable": false,
    "editable": false,
    "nbgrader": {
     "cell_type": "code",
     "checksum": "7adddb36e99c80f6a090b14d7247b054",
     "grade": false,
     "grade_id": "check1",
     "locked": true,
     "schema_version": 3,
     "solution": false,
     "task": false
    }
   },
   "outputs": [],
   "source": [
    "#You can use this cell to check who that is.\n",
    "group[1]"
   ]
  },
  {
   "cell_type": "code",
   "execution_count": null,
   "metadata": {},
   "outputs": [],
   "source": [
    "scores1=[]\n",
    "check_scores(scores1)"
   ]
  },
  {
   "cell_type": "markdown",
   "metadata": {
    "deletable": false,
    "editable": false,
    "nbgrader": {
     "cell_type": "markdown",
     "checksum": "9ff72d62a9c158a552ed42df442aaea7",
     "grade": false,
     "grade_id": "2",
     "locked": true,
     "schema_version": 3,
     "solution": false,
     "task": false
    }
   },
   "source": [
    "Please use `scores2` for the third group member."
   ]
  },
  {
   "cell_type": "code",
   "execution_count": null,
   "metadata": {
    "deletable": false,
    "editable": false,
    "nbgrader": {
     "cell_type": "code",
     "checksum": "557cf0ca481ddcd0ac088f5d138d626c",
     "grade": false,
     "grade_id": "check2",
     "locked": true,
     "schema_version": 3,
     "solution": false,
     "task": false
    }
   },
   "outputs": [],
   "source": [
    "#You can use this cell to check who that is.\n",
    "group[2]"
   ]
  },
  {
   "cell_type": "code",
   "execution_count": null,
   "metadata": {},
   "outputs": [],
   "source": [
    "scores2=[]\n",
    "check_scores(scores2)"
   ]
  },
  {
   "cell_type": "markdown",
   "metadata": {
    "deletable": false,
    "editable": false,
    "nbgrader": {
     "cell_type": "markdown",
     "checksum": "f175b363105fdcf9d5e1bb4cd520a49c",
     "grade": false,
     "grade_id": "3",
     "locked": true,
     "schema_version": 3,
     "solution": false,
     "task": false
    }
   },
   "source": [
    "Please use `scores3` for the fourth group member."
   ]
  },
  {
   "cell_type": "code",
   "execution_count": null,
   "metadata": {
    "deletable": false,
    "editable": false,
    "nbgrader": {
     "cell_type": "code",
     "checksum": "b0b85914db12e1a62b741f9b47e5f812",
     "grade": false,
     "grade_id": "check3",
     "locked": true,
     "schema_version": 3,
     "solution": false,
     "task": false
    }
   },
   "outputs": [],
   "source": [
    "#You can use this cell to check who that is.\n",
    "group[3]"
   ]
  },
  {
   "cell_type": "code",
   "execution_count": null,
   "metadata": {},
   "outputs": [],
   "source": [
    "scores3=[]\n",
    "check_scores(scores3)"
   ]
  },
  {
   "cell_type": "markdown",
   "metadata": {
    "deletable": false,
    "editable": false,
    "nbgrader": {
     "cell_type": "markdown",
     "checksum": "0be7a3ed4d4e0321bd75a51ba42827cc",
     "grade": false,
     "grade_id": "tableintro",
     "locked": true,
     "schema_version": 3,
     "solution": false,
     "task": false
    }
   },
   "source": [
    "Use the table below to check that the data is correct.\n",
    "\n",
    "(If you run this before finishing the form you will probably get an error.)"
   ]
  },
  {
   "cell_type": "code",
   "execution_count": null,
   "metadata": {
    "deletable": false,
    "editable": false,
    "nbgrader": {
     "cell_type": "code",
     "checksum": "bfc23fbd499916707c0feab465624144",
     "grade": false,
     "grade_id": "maketable",
     "locked": true,
     "schema_version": 3,
     "solution": false,
     "task": false
    }
   },
   "outputs": [],
   "source": [
    "def generate_table():\n",
    "    df=pd.DataFrame({group[0]:scores0,group[1]:scores1,group[2]:scores2,group[3]:scores3},\n",
    "                   index=['Contribution to planning and preparation','Amount of contribution to coding','Quality of contribution to coding','Amount of contribution to writing','Quality of contribution to writing','Teamwork'])\n",
    "    return df.dropna(axis='columns')\n",
    "\n",
    "generate_table()"
   ]
  }
 ],
 "metadata": {
  "kernelspec": {
   "display_name": "Python 3",
   "language": "python",
   "name": "python3"
  },
  "language_info": {
   "codemirror_mode": {
    "name": "ipython",
    "version": 3
   },
   "file_extension": ".py",
   "mimetype": "text/x-python",
   "name": "python",
   "nbconvert_exporter": "python",
   "pygments_lexer": "ipython3",
   "version": "3.7.4"
  }
 },
 "nbformat": 4,
 "nbformat_minor": 2
}
